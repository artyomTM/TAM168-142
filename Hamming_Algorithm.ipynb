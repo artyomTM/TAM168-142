{
 "cells": [
  {
   "cell_type": "code",
   "execution_count": 1,
   "id": "e4b1ad39",
   "metadata": {},
   "outputs": [],
   "source": [
    "Tabl = [[n for n in range(0,10)], ['0000000','0001111','0010110','0011001','0100101','0101010','0110011','0111100','1000011','1001100']]\n",
    "Code = ''"
   ]
  },
  {
   "cell_type": "code",
   "execution_count": 2,
   "id": "40acfc90",
   "metadata": {},
   "outputs": [],
   "source": [
    "def Distance(A, B):\n",
    "    K = int(7)\n",
    "    for i in range(1,8):\n",
    "        if (int(A)%10) == (int(B)%10):\n",
    "            K = K-1\n",
    "        A = A[0:len(A)-1]\n",
    "        B = B[0:len(B)-1]\n",
    "    return(K)"
   ]
  },
  {
   "cell_type": "code",
   "execution_count": 3,
   "id": "cca8ce64",
   "metadata": {},
   "outputs": [
    {
     "name": "stdout",
     "output_type": "stream",
     "text": [
      "Код = 0111111\n"
     ]
    }
   ],
   "source": [
    "while not len(Code) == 7:\n",
    "    Code = input('Код = ')"
   ]
  },
  {
   "cell_type": "code",
   "execution_count": 4,
   "id": "43404e96",
   "metadata": {},
   "outputs": [],
   "source": [
    "minD = Distance(Code, Tabl[1][0])\n",
    "Num = 0"
   ]
  },
  {
   "cell_type": "code",
   "execution_count": 5,
   "id": "cb14bf13",
   "metadata": {},
   "outputs": [],
   "source": [
    "for j in range(1,10):\n",
    "    D = Distance(Code, Tabl[1][j])\n",
    "    if D<minD:\n",
    "        minD = D\n",
    "        Num = j"
   ]
  },
  {
   "cell_type": "code",
   "execution_count": 6,
   "id": "241feb8c",
   "metadata": {},
   "outputs": [
    {
     "name": "stdout",
     "output_type": "stream",
     "text": [
      "Код неверный.\n"
     ]
    }
   ],
   "source": [
    "if minD == 0:\n",
    "    print(f'Код верный: символ {Tabl[0][Num]}')\n",
    "elif minD == 1:\n",
    "    print(f'Код исправлен: символ {Tabl[0][Num]}')    \n",
    "else: print('Код неверный.')"
   ]
  }
 ],
 "metadata": {
  "kernelspec": {
   "display_name": "Python 3 (ipykernel)",
   "language": "python",
   "name": "python3"
  },
  "language_info": {
   "codemirror_mode": {
    "name": "ipython",
    "version": 3
   },
   "file_extension": ".py",
   "mimetype": "text/x-python",
   "name": "python",
   "nbconvert_exporter": "python",
   "pygments_lexer": "ipython3",
   "version": "3.10.6"
  }
 },
 "nbformat": 4,
 "nbformat_minor": 5
}
